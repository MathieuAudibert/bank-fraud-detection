{
 "cells": [
  {
   "cell_type": "code",
   "execution_count": null,
   "metadata": {},
   "outputs": [],
   "source": [
    "import unittest\n",
    "import pandas as pd\n",
    "from notebooks.fraud_detection import detect_fraud  \n",
    "\n",
    "class TestFraudDetection(unittest.TestCase):\n",
    "    def setUp(self):\n",
    "        self.transactions = pd.DataFrame({\n",
    "            'transaction_id': [1, 2, 3, 4],\n",
    "            'account_id': [1, 1, 2, 3],\n",
    "            'amount': [500, 200, 1000, 1500],\n",
    "            'transaction_type': ['Deposit', 'Withdrawal', 'Deposit', 'Withdrawal'],\n",
    "            'timestamp': ['2024-06-06 18:22:39', '2024-06-06 18:22:39', '2024-06-06 18:22:39', '2024-06-06 18:22:39']\n",
    "        })\n",
    "\n",
    "    def test_detect_fraud(self):\n",
    "        fraudulent_transactions = detect_fraud(self.transactions)\n",
    "        self.assertIsInstance(fraudulent_transactions, pd.DataFrame)\n",
    "        self.assertEqual(len(fraudulent_transactions), 1)\n",
    "        self.assertEqual(fraudulent_transactions.iloc[0]['transaction_id'], 4)\n",
    "\n",
    "if __name__ == '__main__':\n",
    "    unittest.main()"
   ]
  }
 ],
 "metadata": {
  "language_info": {
   "name": "python"
  }
 },
 "nbformat": 4,
 "nbformat_minor": 2
}
